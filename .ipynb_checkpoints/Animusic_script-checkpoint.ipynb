{
 "cells": [
  {
   "cell_type": "code",
   "execution_count": null,
   "id": "65f33b1a",
   "metadata": {},
   "outputs": [],
   "source": [
    "import pandas as pd\n",
    "from savify import Savify\n",
    "from savify.types import Type, Format, Quality\n",
    "from savify.utils import PathHolder\n",
    "from savify.logger import Logger\n",
    "\n",
    "#downloads spotify links into nested folder properly\n",
    "def DownloadSpotify(sheet_with_spotify, dl_loc, end_point):\n",
    "    songset = sheet_with_spotify.head(end_point)\n",
    "    for i in songset.index:\n",
    "        if songset.loc[i,'status'] == 'Downloaded':\n",
    "            continue\n",
    "        sp_link = songset.loc[i,'spotify']\n",
    "        year    = str(songset.loc[i,'year'])\n",
    "        season  = str(songset.loc[i,'season'])\n",
    "        anime   = songset.loc[i,'anime']\n",
    "        oped    = songset.loc[i,'category']\n",
    "        title   = songset.loc[i,'songname']\n",
    "        artist  = songset.loc[i,'artist'].strip()\n",
    "        path    = year + '/' + season + '/' + anime + '/' + oped + '/' + artist + '/'+ title\n",
    "        ffpath  = 'ffmpeg'\n",
    "        dlpath  = dl_loc +'/' + 'Animusic'\n",
    "        #https://developer.spotify.com/dashboard/applications/f2d89a80d48e41e19e4263d5b3792c21\n",
    "        api1    = 'f2d89a80d48e41e19e4263d5b3792c21'\n",
    "        api2    = '12f6688e93504599b3d0403e8a4f2cc8'\n",
    "        logger  = Logger(log_location = dlpath, log_level = None)\n",
    "        print(i, path)\n",
    "        \n",
    "        #C:\\Users\\dell\\AppData\\Roaming\\Savify\\temp is where the temporary download goes\n",
    "        s = Savify(api_credentials  = (api1,api2), \n",
    "                    download_format = Format.MP3, \n",
    "                    ffmpeg_location = ffpath, \n",
    "                    skip_cover_art  = False, \n",
    "                    path_holder = PathHolder(downloads_path=dlpath), \n",
    "                    group   = path, \n",
    "                    quality = Quality.BEST,\n",
    "                    logger  = logger)\n",
    "        s.download(sp_link)\n",
    "        sheet_with_spotify.loc[i,'status'] = 'Downloaded'\n",
    "\n",
    "with_spotify = pd.read_csv('with_spotify.csv')\n",
    "del with_spotify['Unnamed: 0']\n",
    "\n",
    "#DownloadSpotify(with_spotify, 'F:/', 3)\n",
    "#with_spotify.to_csv('with_spotify_updated.csv')\n",
    "\n"
   ]
  }
 ],
 "metadata": {
  "kernelspec": {
   "display_name": "Python 3",
   "language": "python",
   "name": "python3"
  },
  "language_info": {
   "codemirror_mode": {
    "name": "ipython",
    "version": 3
   },
   "file_extension": ".py",
   "mimetype": "text/x-python",
   "name": "python",
   "nbconvert_exporter": "python",
   "pygments_lexer": "ipython3",
   "version": "3.8.8"
  }
 },
 "nbformat": 4,
 "nbformat_minor": 5
}
